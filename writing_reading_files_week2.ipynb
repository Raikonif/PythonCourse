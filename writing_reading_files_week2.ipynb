{
 "cells": [
  {
   "cell_type": "markdown",
   "metadata": {},
   "source": [
    "**Reading and Writing Files**"
   ]
  },
  {
   "cell_type": "markdown",
   "metadata": {},
   "source": [
    "**Problem:** We want to store data more permanently\n",
    "\n",
    "**Solution:**\n",
    "- Writing data to a file, reading data from a file\n",
    "- Writing data to a database"
   ]
  },
  {
   "cell_type": "markdown",
   "metadata": {},
   "source": [
    "**How to write to a file?**\n",
    "1. Open the file\n",
    "2. Write to the file\n",
    "3. Close the file"
   ]
  },
  {
   "cell_type": "code",
   "execution_count": 9,
   "metadata": {},
   "outputs": [],
   "source": [
    "# 1. Open file orders.txt (at working directory) in write mode\n",
    "with open('orders.txt', 'w') as sales_log:\n",
    "# YOUR CODE goes here\n",
    "    sales_log.write('first write Raikonif \\n')\n",
    "    sales_log.write('second write testing \\n')\n",
    "# close the file\n",
    "file_object.close()\n"
   ]
  },
  {
   "cell_type": "markdown",
   "metadata": {},
   "source": [
    "**Writing data to a file**\n",
    "\n",
    "After we get a customer order, it would be great if we could record each sale to a sales.txt file\n",
    "- One single order comes in a dictionary of menu items and their price\n",
    "\n",
    "We are going to write each item and price on a separate line in a file and then the orders total"
   ]
  },
  {
   "cell_type": "code",
   "execution_count": 10,
   "metadata": {},
   "outputs": [],
   "source": [
    "def write_sales_log(order):\n",
    "    total = 0\n",
    "    user_order = []\n",
    "    running = True\n",
    "    # open the file\n",
    "    # write each item to the file\n",
    "    # write the total to the file\n",
    "    # close the file\n",
    "    with open('orders.txt', 'a') as sales_log:\n",
    "    \n",
    "        while running:\n",
    "            input_order = input('Enter order or (Q for quit): ')\n",
    "            for key, value in order.items():\n",
    "                if input_order == key:\n",
    "                    user_order.append(input_order)\n",
    "                    print(user_order)\n",
    "                    total += order[input_order]\n",
    "                    print(total)\n",
    "                elif input_order == 'quit' or input_order == 'q' or input_order == 'Q':\n",
    "                    print('See ya!')\n",
    "                    running = False\n",
    "                else:\n",
    "                    print('Invalid order')\n",
    "            \n",
    "        if(order != []):\n",
    "            sales_log.write(str(user_order) + '\\n')\n",
    "            sales_log.write(str(total) + '\\n')\n",
    "            sales_log.close()\n",
    "        else:\n",
    "            print('No order')\n",
    "            sales_log.close()\n",
    "\n"
   ]
  },
  {
   "cell_type": "code",
   "execution_count": null,
   "metadata": {},
   "outputs": [],
   "source": [
    "def main():\n",
    "    order =  {'order 1': 1.0, 'order 2': 2.5}\n",
    "    write_sales_log(order)\n",
    "\n",
    "main()\n",
    " "
   ]
  },
  {
   "cell_type": "code",
   "execution_count": null,
   "metadata": {},
   "outputs": [],
   "source": [
    "def write_sales_log(order):\n",
    "    total = 0\n",
    "    user_order = []\n",
    "    running = True\n",
    "    # open the file\n",
    "    # write each item to the file\n",
    "    # write the total to the file\n",
    "    # close the file\n",
    "    with open('orders.txt', 'a') as sales_log:\n",
    "    \n",
    "        while running:\n",
    "            input_order = input('Enter order or (Q for quit): ')\n",
    "            for key, value in order.items():\n",
    "                if input_order == key:\n",
    "                    user_order.append(input_order)\n",
    "                    print(user_order)\n",
    "                    total += order[input_order]\n",
    "                    print(total)\n",
    "                elif input_order == 'quit' or input_order == 'q' or input_order == 'Q':\n",
    "                    print('See ya!')\n",
    "                    running = False\n",
    "                else:\n",
    "                    print('Invalid order')\n",
    "            \n",
    "        if(order != []):\n",
    "            formated_total = format(total, '.2f')\n",
    "            sales_log.write(str(user_order) + '\\n')\n",
    "            sales_log.write('Total: ' + str(formated_total) + '\\n')\n",
    "            sales_log.close()\n",
    "        else:\n",
    "            print('No order')\n",
    "            sales_log.close()\n",
    "\n",
    "def main():\n",
    "    order =  {'order 1': 1.0, 'order 2': 2.5}\n",
    "    write_sales_log(order)\n",
    " \n",
    "main()\n"
   ]
  },
  {
   "cell_type": "code",
   "execution_count": null,
   "metadata": {},
   "outputs": [],
   "source": [
    "## We don't want to ovewrite our file data each time\n",
    "## append data  to the end of the file instead\n",
    "\n",
    "with open('orders.txt', 'a') as sales_log:\n"
   ]
  },
  {
   "cell_type": "code",
   "execution_count": null,
   "metadata": {},
   "outputs": [],
   "source": [
    "## After `total` is written, Add a new line to separate the orders better\n",
    "sales_log.write('Total: ' + str(formated_total) + '\\n')"
   ]
  },
  {
   "cell_type": "markdown",
   "metadata": {},
   "source": [
    "**Writing the Circus Schedule**\n",
    "\n",
    "Whenever we update the schedule we'll write it to a file so that other programs, like the circus website, can use it. We want to take our performances dictionary and write each item into a schedule.txt file so the file looks like this:\n",
    "\n",
    "    Ventriloquism - 9:00am\n",
    "\n",
    "    Snake Charmer - 12:00pm\n",
    "\n",
    "    Amazing Acrobatics - 2:00pm\n",
    "\n",
    "    Enchanted Elephants - 5:00pm"
   ]
  },
  {
   "cell_type": "code",
   "execution_count": null,
   "metadata": {},
   "outputs": [],
   "source": [
    "## First, we'll need to open our file using the open() function with the file name schedule.txt and w for write. \n",
    "# We'll also want to assign the file to a variable called schedule_file.\n",
    "\n",
    "## Next, we need to write each item from the dictionary to the file. \n",
    "# To do that, we'll create a for loop that loops over the dictionary's items(). \n",
    "# We'll name the for loop variables key and val.\n",
    "\n",
    "## Inside our for loop we'll write to schedule_file using the .write() function. \n",
    "# Then inside of that function we'll concatenate the key, then ' - ', and finally val to match our menu format. \n",
    "# Don't forget to add a newline ' ' at the end of each line\n",
    "\n",
    "## Now that we're done writing our performance schedule to schedule_file, we need to close it with .close().\n",
    "\n",
    "schedule_dict = {\n",
    "    'Ventriloquism': '9:00 a.m.',\n",
    "    'Snake Charmer': '12:00 p.m.',\n",
    "    'Amazing Acrobatics': '2:00 p.m.',\n",
    "    'Enchanted Elephants': '5:00 p.m.'\n",
    "}\n",
    "for key, value in schedule_dict.items():\n",
    "    with open('schedule.txt', 'a') as file:\n",
    "        file.write(f'{key} - {value}' + '\\n')\n",
    "\n",
    "file.close()\n"
   ]
  },
  {
   "cell_type": "markdown",
   "metadata": {},
   "source": [
    "**Reading data from a file**\n",
    "\n",
    "**Problem:**\n",
    "- Everyday a boss sends a file of dollar menu items.\n",
    "- We want to read this file into a list so our program can use it\n",
    "\n",
    "**Solution:**\n",
    "- Open the file \n",
    "- Read from the file\n",
    "- Close the file"
   ]
  },
  {
   "cell_type": "code",
   "execution_count": 11,
   "metadata": {},
   "outputs": [
    {
     "name": "stdout",
     "output_type": "stream",
     "text": [
      "first write Raikonif \n",
      "second write testing \n",
      "\n",
      "['order 1', 'order 1', 'order 2', 'order 2']\n",
      "7.0\n",
      "['order 1', 'order 2', 'order 2']\n",
      "['order 1', 'order 2', 'order 2']\n",
      "['order 1', 'order 2']\n",
      "['order 1', 'order 2', 'order 2']\n",
      "Total: 6.00\n",
      "\n"
     ]
    }
   ],
   "source": [
    "## Reading the entire file content at once\n",
    "open_file = open('orders.txt', 'r')\n",
    "print(open_file.read())\n",
    "open_file.close()"
   ]
  },
  {
   "cell_type": "code",
   "execution_count": 12,
   "metadata": {},
   "outputs": [
    {
     "name": "stdout",
     "output_type": "stream",
     "text": [
      "1st line: first write Raikonif \n",
      "\n",
      "2nd line: second write testing \n",
      "\n"
     ]
    }
   ],
   "source": [
    "## Reading an individual line from a file\n",
    "def read_dollar_menu():\n",
    "    open_file = open('orders.txt', 'r')\n",
    "    print('1st line:', open_file.readline())\n",
    "    print('2nd line:', open_file.readline())\n",
    "    open_file.close()\n",
    "\n",
    "def main():\n",
    "   read_dollar_menu()\n",
    "\n",
    "## script entry point\n",
    "main() \n"
   ]
  },
  {
   "cell_type": "code",
   "execution_count": 17,
   "metadata": {},
   "outputs": [
    {
     "name": "stdout",
     "output_type": "stream",
     "text": [
      "first write Raikonif\n",
      "second write testing\n",
      "\n",
      "['order 1', 'order 1', 'order 2', 'order 2']\n",
      "7.0\n",
      "['order 1', 'order 2', 'order 2']\n",
      "['order 1', 'order 2', 'order 2']\n",
      "['order 1', 'order 2']\n",
      "['order 1', 'order 2', 'order 2']\n",
      "Total: 6.00\n"
     ]
    }
   ],
   "source": [
    "## Reading ALL the lines in a loop into a list\n",
    "def read_dollar_menu(file_name):\n",
    "    # open the file\n",
    "    # loop to get each line and append each line into a list\n",
    "    # print the list\n",
    "    # close the file\n",
    "    with open(file_name, 'r') as file:\n",
    "        for line in file:\n",
    "            content = line.strip()\n",
    "            print(content)\n",
    "        file.close()\n",
    "    pass\n",
    "\n",
    "def main():\n",
    "    file_name = 'orders.txt'\n",
    "    content = read_dollar_menu(file_name)\n",
    "    ## print(content)\n",
    "\n",
    "main()\n"
   ]
  },
  {
   "cell_type": "code",
   "execution_count": null,
   "metadata": {},
   "outputs": [],
   "source": [
    "## Strip newline caracters from each menu line\n",
    "content = line.strip()"
   ]
  },
  {
   "cell_type": "markdown",
   "metadata": {},
   "source": [
    "**Reading schedule.txt**\n",
    "\n",
    "We'll also need to be able to read our schedule file back into a dictionary. \n",
    "\n",
    "Right now our schedule.txt file looks like this:\n",
    "\n",
    "    Ventriloquism - 9:00am\n",
    "\n",
    "    Snake Charmer - 12:00pm\n",
    "\n",
    "    Amazing Acrobatics - 2:00pm\n",
    "\n",
    "    Enchanted Elephants - 5:00pm\n",
    "\n",
    "After we open the file, we'll want to read each line from the file in a for loop.\n",
    "\n",
    "Let's use the variable name line in our for loop.\n",
    "\n",
    "Then, inside of that for loop, print out the contents of the line variable.\n",
    "\n",
    "Finally, before we forget, let's close our file outside of the for loop."
   ]
  },
  {
   "cell_type": "code",
   "execution_count": 40,
   "metadata": {},
   "outputs": [
    {
     "name": "stdout",
     "output_type": "stream",
     "text": [
      "['Ventriloquism ', ' 9:00 a.m.\\n']\n"
     ]
    },
    {
     "ename": "AttributeError",
     "evalue": "'str' object has no attribute 'key'",
     "output_type": "error",
     "traceback": [
      "\u001b[1;31m---------------------------------------------------------------------------\u001b[0m",
      "\u001b[1;31mAttributeError\u001b[0m                            Traceback (most recent call last)",
      "Cell \u001b[1;32mIn [40], line 15\u001b[0m\n\u001b[0;32m     12\u001b[0m     file_name \u001b[38;5;241m=\u001b[39m \u001b[38;5;124m'\u001b[39m\u001b[38;5;124mschedule.txt\u001b[39m\u001b[38;5;124m'\u001b[39m\n\u001b[0;32m     13\u001b[0m     content \u001b[38;5;241m=\u001b[39m read_schedule(file_name)\n\u001b[1;32m---> 15\u001b[0m \u001b[43mmain\u001b[49m\u001b[43m(\u001b[49m\u001b[43m)\u001b[49m\n",
      "Cell \u001b[1;32mIn [40], line 13\u001b[0m, in \u001b[0;36mmain\u001b[1;34m()\u001b[0m\n\u001b[0;32m     11\u001b[0m \u001b[38;5;28;01mdef\u001b[39;00m \u001b[38;5;21mmain\u001b[39m():\n\u001b[0;32m     12\u001b[0m     file_name \u001b[38;5;241m=\u001b[39m \u001b[38;5;124m'\u001b[39m\u001b[38;5;124mschedule.txt\u001b[39m\u001b[38;5;124m'\u001b[39m\n\u001b[1;32m---> 13\u001b[0m     content \u001b[38;5;241m=\u001b[39m \u001b[43mread_schedule\u001b[49m\u001b[43m(\u001b[49m\u001b[43mfile_name\u001b[49m\u001b[43m)\u001b[49m\n",
      "Cell \u001b[1;32mIn [40], line 8\u001b[0m, in \u001b[0;36mread_schedule\u001b[1;34m(file_name)\u001b[0m\n\u001b[0;32m      6\u001b[0m     content \u001b[38;5;241m=\u001b[39m line\u001b[38;5;241m.\u001b[39msplit(\u001b[38;5;124m'\u001b[39m\u001b[38;5;124m-\u001b[39m\u001b[38;5;124m'\u001b[39m)\n\u001b[0;32m      7\u001b[0m     \u001b[38;5;28mprint\u001b[39m(content)\n\u001b[1;32m----> 8\u001b[0m     \u001b[38;5;28mdict\u001b[39m[\u001b[43mline\u001b[49m\u001b[38;5;241;43m.\u001b[39;49m\u001b[43mkey\u001b[49m]\u001b[38;5;241m.\u001b[39mappend(line\u001b[38;5;241m.\u001b[39mvalue)\n\u001b[0;32m      9\u001b[0m file\u001b[38;5;241m.\u001b[39mclose()\n",
      "\u001b[1;31mAttributeError\u001b[0m: 'str' object has no attribute 'key'"
     ]
    }
   ],
   "source": [
    "## Reading schedule.txt\n",
    "def read_schedule(file_name):\n",
    "    \n",
    "    with open(file_name, 'r') as file:\n",
    "        for line in file:\n",
    "            content = line.split('-')\n",
    "            print(content)\n",
    "            # dict[line.key].append(line.value)\n",
    "        file.close()\n",
    "\n",
    "def main():\n",
    "    file_name = 'schedule.txt'\n",
    "    content = read_schedule(file_name)\n",
    "\n",
    "main()\n"
   ]
  },
  {
   "cell_type": "code",
   "execution_count": null,
   "metadata": {},
   "outputs": [],
   "source": [
    "## Assign the show name and time directly to a key-value pair labeled (show, time). \n",
    "## Set (show, time) equal to the output of the line.split() function, and pass in ' - ' as a parameter to the split() function.\n",
    "## Print show and time instead of just line.\n",
    "content = line.split('-')\n"
   ]
  },
  {
   "cell_type": "code",
   "execution_count": null,
   "metadata": {},
   "outputs": [],
   "source": [
    "## Save the show and time in a performances dictionary, use the key show and the value time.\n",
    "## Print it to see if it looks right\n",
    "## Get rid of newline characters\n"
   ]
  },
  {
   "cell_type": "markdown",
   "metadata": {},
   "source": [
    "**Exceptions**\n",
    "\n",
    "If we try to read a file that does not exist we get a **FileNotFoundError** and this error will cause our program to crash\n",
    "\n",
    "It would be great if we could recover from this type of error and continue with our program\n",
    "\n",
    "**Try except** allows us to do just that"
   ]
  },
  {
   "cell_type": "code",
   "execution_count": null,
   "metadata": {},
   "outputs": [],
   "source": [
    "## Anything we put in the Try block catch errors so we can avoid a program crash\n",
    "## Opening a file is potencially error prone code\n",
    "\n",
    "try: # try this\n",
    "    file = open('sales.txt', 'r')\n",
    "    print(file.read())\n",
    "except: # if you get an error\n",
    "    print('File does not exit') # print the error message \n",
    "# then continue with the program as usual\n",
    "print('*')"
   ]
  },
  {
   "cell_type": "markdown",
   "metadata": {},
   "source": [
    "**Types of Exceptions**\n",
    "\n",
    "Python has 60 and plus types of exceptions, like:\n",
    "- FileNotFoundError\n",
    "- IndexError\n",
    "- KeyError\n",
    "- NameError\n",
    "- ValueError\n",
    "\n",
    "You can find all of the types of Python 3 exception at https://docs.python.org/3/tutorial/errors.html "
   ]
  },
  {
   "cell_type": "code",
   "execution_count": null,
   "metadata": {},
   "outputs": [],
   "source": [
    "## A ValueError can occur when you try to convert a string to number\n",
    "## and the string actually contain a word instead of a number \n",
    "\n",
    "price = input('Enter the price: ')\n",
    "try:\n",
    "    price = float(price)\n",
    "    print('price = ', price, type(price))\n",
    "except Exception as exception:\n",
    "    print('Not a number:', exception, type(exception))\n",
    "    if type(exception) == ValueError:\n",
    "        pass\n",
    "    elif type(exception) == NameError:\n",
    "        pass\n",
    "\n",
    "print('next line')"
   ]
  },
  {
   "cell_type": "code",
   "execution_count": null,
   "metadata": {},
   "outputs": [],
   "source": [
    "## A ValueError can occur when you try to convert a string to number\n",
    "## and the string actually contain a word instead of a number \n",
    "\n",
    "price = input('Enter the price: ')\n",
    "try:\n",
    "    price = float(price)\n",
    "    print('price = ', price, type(price))\n",
    "\n",
    "    x = {'a': 'd'}\n",
    "    print(x['ddddd'])\n",
    "except ValueError as exception:\n",
    "    print('Not a number:', exception, type(exception))\n",
    "except KeyError as exception:\n",
    "    print('other error:', exception, type(exception))\n",
    "except Exception as e:\n",
    "    print('exception:', exception, type(exception))\n",
    "\n",
    "print('next line')"
   ]
  },
  {
   "cell_type": "code",
   "execution_count": null,
   "metadata": {},
   "outputs": [],
   "source": [
    "## Capture the exception's error message"
   ]
  },
  {
   "cell_type": "markdown",
   "metadata": {},
   "source": [
    "**Try, Except, Succeed**\n",
    "\n",
    "If for some reason we try to read our schedule.txt file and it doesn't exist, our program will crash. \n",
    "\n",
    "Let's fix this by adding exception handling to our schedule reader program."
   ]
  },
  {
   "cell_type": "code",
   "execution_count": null,
   "metadata": {},
   "outputs": [],
   "source": [
    "## First, let's wrap the line of code that opens our file inside a try block.\n",
    "## Then, after the try block we need an except block, or our program won't run. \n",
    "## Inside our except block let's print File doesn't exist.\n",
    "## In the except: line, let's also check for a specific FileNotFoundError and save it into a variable called err.\n",
    "## Finally, let's just print err instead of File doesn't exist.\n",
    "\n",
    "performances = {}\n",
    "\n",
    "schedule_file = open('schedule.txt', 'r')\n",
    "\n",
    "for line in schedule_file:\n",
    "    (show, time) = line.split(' - ')\n",
    "    performances[show] = time\n",
    "\n",
    "schedule_file.close()\n",
    "print(performances)"
   ]
  }
 ],
 "metadata": {
  "kernelspec": {
   "display_name": "Python 3.9.13 64-bit",
   "language": "python",
   "name": "python3"
  },
  "language_info": {
   "codemirror_mode": {
    "name": "ipython",
    "version": 3
   },
   "file_extension": ".py",
   "mimetype": "text/x-python",
   "name": "python",
   "nbconvert_exporter": "python",
   "pygments_lexer": "ipython3",
   "version": "3.9.13"
  },
  "orig_nbformat": 4,
  "vscode": {
   "interpreter": {
    "hash": "aee8b7b246df8f9039afb4144a1f6fd8d2ca17a180786b69acc140d282b71a49"
   }
  }
 },
 "nbformat": 4,
 "nbformat_minor": 2
}
