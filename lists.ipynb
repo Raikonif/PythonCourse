{
 "cells": [
  {
   "cell_type": "code",
   "execution_count": null,
   "metadata": {},
   "outputs": [],
   "source": [
    "#Empty List\n",
    "student = \"Maria\"\n",
    "students = []\n",
    "\n",
    "print(students, type(students), len(students))"
   ]
  },
  {
   "cell_type": "code",
   "execution_count": 4,
   "metadata": {},
   "outputs": [
    {
     "ename": "SyntaxError",
     "evalue": "invalid syntax (3223625957.py, line 16)",
     "output_type": "error",
     "traceback": [
      "\u001b[1;36m  Cell \u001b[1;32mIn [4], line 16\u001b[1;36m\u001b[0m\n\u001b[1;33m    asert numbers[0] = 10000, 'expected value at position 0 was 1M'\u001b[0m\n\u001b[1;37m          ^\u001b[0m\n\u001b[1;31mSyntaxError\u001b[0m\u001b[1;31m:\u001b[0m invalid syntax\n"
     ]
    }
   ],
   "source": [
    "#non empty list\n",
    "students = [\"Maria\", \"Juan\", \"Pedro\", \"Luis\", True, 2, -1]\n",
    "print(students, type(students), len(students))\n",
    "\n",
    "#add elements\n",
    "students.append('100')\n",
    "print(students, type(students), len(students))\n",
    "\n",
    "#Read element value at position 0\n",
    "element = students[0]\n",
    "print(\"at position 0 element is\", element)\n",
    "\n",
    "#Write element value at position 0...replace in with 10000\n",
    "students[0] = 10000\n",
    "\n",
    "asert numbers[0] = 10000, 'expected value at position 0 was 1M'\n",
    "print('at position 0 element is', element)\n"
   ]
  },
  {
   "cell_type": "code",
   "execution_count": null,
   "metadata": {},
   "outputs": [
    {
     "ename": "NameError",
     "evalue": "name 'numbers' is not defined",
     "output_type": "error",
     "traceback": [
      "\u001b[1;31m---------------------------------------------------------------------------\u001b[0m",
      "\u001b[1;31mNameError\u001b[0m                                 Traceback (most recent call last)",
      "Cell \u001b[1;32mIn [2], line 4\u001b[0m\n\u001b[0;32m      2\u001b[0m number \u001b[38;5;241m=\u001b[39m \u001b[38;5;241m100\u001b[39m\n\u001b[0;32m      3\u001b[0m \u001b[38;5;66;03m# does number exist in numbers? True or False\u001b[39;00m\n\u001b[1;32m----> 4\u001b[0m founded \u001b[38;5;241m=\u001b[39m number \u001b[38;5;129;01min\u001b[39;00m \u001b[43mnumbers\u001b[49m\n\u001b[0;32m      5\u001b[0m \u001b[38;5;28mprint\u001b[39m(numbers, number, founded)\n",
      "\u001b[1;31mNameError\u001b[0m: name 'numbers' is not defined"
     ]
    }
   ],
   "source": [
    "# check if element exists in list\n",
    "number = 100\n",
    "# does number exist in numbers? True or False\n",
    "founded = number in numbers\n",
    "print(numbers, number, founded)"
   ]
  },
  {
   "cell_type": "code",
   "execution_count": null,
   "metadata": {},
   "outputs": [],
   "source": []
  }
 ],
 "metadata": {
  "kernelspec": {
   "display_name": "Python 3.10.5 ('jala': venv)",
   "language": "python",
   "name": "python3"
  },
  "language_info": {
   "codemirror_mode": {
    "name": "ipython",
    "version": 3
   },
   "file_extension": ".py",
   "mimetype": "text/x-python",
   "name": "python",
   "nbconvert_exporter": "python",
   "pygments_lexer": "ipython3",
   "version": "3.10.5"
  },
  "orig_nbformat": 4,
  "vscode": {
   "interpreter": {
    "hash": "2293375610a675e0da3928dd032ebeffe731dadefcf7b242df0f5849eadfdcef"
   }
  }
 },
 "nbformat": 4,
 "nbformat_minor": 2
}
