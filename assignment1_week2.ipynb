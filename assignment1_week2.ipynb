{
 "cells": [
  {
   "cell_type": "markdown",
   "metadata": {},
   "source": [
    "**Week 2 - Assigment 1**"
   ]
  },
  {
   "cell_type": "code",
   "execution_count": null,
   "metadata": {},
   "outputs": [],
   "source": [
    "## join array elements\n",
    "\n",
    "grades1 = [10, 20, 40, 67.7]\n",
    "grades2 = [100, 25.0, 40.5, 6.7]\n",
    "expected_result = [10, 20, 40, 67.7, 100, 25.0, 40.5, 6.7]\n",
    "result = []\n",
    "\n",
    "result = grades1 + grades2\n",
    "print(result)\n",
    "assert result == expected_result, f\"actual result {result} does not match expected result {expected_result}\""
   ]
  },
  {
   "cell_type": "code",
   "execution_count": 3,
   "metadata": {},
   "outputs": [
    {
     "name": "stdout",
     "output_type": "stream",
     "text": [
      "[110.0, 45.0, 80.5, 74.4]\n"
     ]
    }
   ],
   "source": [
    "## sum array elements\n",
    "import numpy as np\n",
    "\n",
    "grades1 = [10, 20, 40, 67.7]\n",
    "grades2 = [100, 25.0, 40.5, 6.7]\n",
    "\n",
    "expected_result = [110, 45.0, 80.5, 74.4]\n",
    "result = []\n",
    "\n",
    "#converting to sum array\n",
    "sumarray = np.add(grades1, grades2)\n",
    "for i in range(len(grades1)):\n",
    "    result.append(sumarray[i])\n",
    "print(result)\n",
    "\n",
    "assert result == expected_result, f\"actual result {result} does not match expected result {expected_result}\""
   ]
  },
  {
   "cell_type": "code",
   "execution_count": 4,
   "metadata": {},
   "outputs": [
    {
     "name": "stdout",
     "output_type": "stream",
     "text": [
      "[-17.77777777777778, -23.333333333333336, -20.555555555555557, -26.11111111111111, -17.77777777777778]\n",
      "Random Ann Arbor Winter: [-8, -7, -5, 7, 5, 3, 26, 16, 8, -15]\n",
      "Celcius converted: [-22.222, -21.667, -20.556, -13.889, -15.0, -16.111, -3.333, -8.889, -13.333, -26.111]\n"
     ]
    }
   ],
   "source": [
    "# With arithmetic manipulation, we can convert current data to the way we want it to be. \n",
    "# Here's a real-world problem I face - I moved down to the United States about 6 years ago from Canada. \n",
    "# In Canada we use celciu for temperatures, and most of the time it has to be converted to the US system which uses farenheit. \n",
    "# Convert a number of farenheit values, say the weather forecase, to celcius\n",
    "# And the formula for conversion is ((°F − 32) × 5/9 = °C)\n",
    "farenheit = [0,-10,-5,-15,0]\n",
    "celcius = []\n",
    "expected_celcius = [-17.77777777777778, -23.333333333333336, -20.555555555555557, -26.11111111111111,-17.77777777777778]\n",
    "\n",
    "for i in range(len(farenheit)):\n",
    "    celcius.append((farenheit[i] - 32) * (5/9))\n",
    "print(celcius)\n",
    "\n",
    "assert celcius == expected_celcius, f\"actual result {celcius} does not match expected result {expected_celcius}\"\n",
    "\n",
    "# Now, create an array with random values of typical `Ann Arbor winter` farenheit values with sample_size specified by the user\n",
    "# then convert its values to celcius\n",
    "# result list must not contain duplicates, and celcius numbers must be floating point with 3 decimal places\n",
    "import random\n",
    "\n",
    "ann_arbor_winter = []\n",
    "sample_size = 10\n",
    "\n",
    "ann_arbor_winter = list(np.random.permutation(np.arange(-15,32))[:sample_size])\n",
    "print (\"Random Ann Arbor Winter: \" + str(ann_arbor_winter))\n",
    "\n",
    "celcius = []\n",
    "# expected_celcius = []\n",
    "\n",
    "for i in range(len(ann_arbor_winter)):\n",
    "    item_converted = (ann_arbor_winter[i] - 32) * (5/9)\n",
    "    celcius.append(round(item_converted, 3))\n",
    "\n",
    "print(\"Celcius converted: \" + str(celcius))\n"
   ]
  },
  {
   "cell_type": "code",
   "execution_count": null,
   "metadata": {},
   "outputs": [],
   "source": [
    "## Now, we want to get a boolean array to check celcius degrees that are greater than -20 degrees\n",
    "\n",
    "farenheit = [0,-10,5,-15,0]\n",
    "celcius_gt_20 = []\n",
    "for i in range(len(farenheit)):\n",
    "    item_bool = ((farenheit[i] - 32) * (5/9) < -20)\n",
    "    celcius_gt_20.append(item_bool)\n",
    "print(celcius_gt_20)\n",
    "expected_celcius_gt_20 = [False, True, False, True, False]\n",
    "assert celcius_gt_20 == expected_celcius_gt_20, f\"actual result {celcius_gt_20} does not match expected result {expected_celcius_gt_20}\"\n"
   ]
  },
  {
   "cell_type": "code",
   "execution_count": null,
   "metadata": {},
   "outputs": [],
   "source": [
    "## Now, we want to get a boolean array to check celcius degrees that are greater than -20 degrees\n",
    "\n",
    "farenheit = [0,-10,-5,-15,0]\n",
    "celcius_gt_20 = []\n",
    "for i in range(len(farenheit)):\n",
    "    item_bool = ((farenheit[i] - 32) * (5/9) < -20)\n",
    "    celcius_gt_20.append(item_bool)\n",
    "print(celcius_gt_20)\n",
    "expected_celcius_gt_20 = [False, True, True, True, False]\n",
    "assert celcius_gt_20 == expected_celcius_gt_20, f\"actual result {celcius_gt_20} does not match expected result {expected_celcius_gt_20}\"\n"
   ]
  },
  {
   "cell_type": "code",
   "execution_count": null,
   "metadata": {},
   "outputs": [],
   "source": [
    "## We've held music festivals, every other year since 1970 until now - 2022. How would we list the years?\n",
    "first_year = 1970\n",
    "last_year = 2022\n",
    "\n",
    "years = []\n",
    "for i in range(first_year, last_year+1, 2):\n",
    "    years.append(i)\n",
    "print(years)"
   ]
  },
  {
   "cell_type": "code",
   "execution_count": 2,
   "metadata": {},
   "outputs": [
    {
     "name": "stdout",
     "output_type": "stream",
     "text": [
      "[45 43 40 30  1]\n"
     ]
    }
   ],
   "source": [
    "## A fortune-teller robot generate random lotto ticket suggestions for its customers. \n",
    "## How would you help the ronot pick five random numbers between 1 and 53.\n",
    "import random\n",
    "import numpy as np\n",
    "\n",
    "lotto = np.random.randint(1, 53, 5)\n",
    "print(lotto)"
   ]
  },
  {
   "cell_type": "code",
   "execution_count": null,
   "metadata": {},
   "outputs": [],
   "source": [
    "## Print this menu prices in the following format\n",
    "##  item 1: $0.50\n",
    "##  item 2: $1.50\n",
    "##  item 3: $2.50\n",
    "menu_prices  = {\n",
    "    'item 1': 0.50,\n",
    "    'item 2': 1.50,\n",
    "    'item 3': 2.50\n",
    "}\n",
    "print(\"\"\"Menu Prices:\n",
    "item 1: ${}\n",
    "item 2: ${}\n",
    "item 3: ${}\"\"\"\n",
    ".format(\n",
    "    menu_prices['item 1'], \n",
    "    menu_prices['item 2'], \n",
    "    menu_prices['item 3']\n",
    "    ))\n"
   ]
  },
  {
   "cell_type": "code",
   "execution_count": 1,
   "metadata": {},
   "outputs": [
    {
     "name": "stdout",
     "output_type": "stream",
     "text": [
      "Welcome to the menu ordering system\n",
      "- Please enter the menu item you would like to order\n",
      "- Enter Q to quit\n"
     ]
    }
   ],
   "source": [
    "# Create an console interface for ordering from a menu,\n",
    "# it will let customers order and add as many menu items as they want\n",
    "menu = {\n",
    "    1: \"sandwich\",\n",
    "    2: \"hot dog\",\n",
    "    3: \"cola\",\n",
    "    4: \"fries\",\n",
    "    5: \"nuggets\",\n",
    "    6: \"ice cream\",\n",
    "    7: \"Cheese sticks\",\n",
    "}\n",
    "orders = []\n",
    "run = True\n",
    "# Add the user what they want to order as: what would you like to order? (Q to quit)\n",
    "# while the order is not equal for Q for quit, find the order and add it to the list if it exists\n",
    "# else let the customer know that the `Menu item does not exist`\n",
    "# See if the customer wants to order anything else `Anything else? (Q to Quit)`\n",
    "print(\"\"\"Welcome to the menu ordering system\n",
    "- Please enter the menu item you would like to order\"\"\")\n",
    "for key, value in menu.items():\n",
    "    print(\"{0} - {1}\".format(key, value))\n",
    "\n",
    "\n",
    "while run:\n",
    "    try:\n",
    "        input_user = input(\"What would you like to order? (Q to quit): \")\n",
    "        if input_user == 'Q' or input_user == 'q':\n",
    "            run = False\n",
    "            break\n",
    "## We have a problem, we run out of `Cheese sticks` in the menu, we'll need to let the customer know\n",
    "## if the order is `Cheese sticks` print `We're all out of that!` and skip the rest of the code\n",
    "        elif int(input_user) = 7:\n",
    "            \"We're all out of that!\"\n",
    "            run = False\n",
    "\n",
    "    except ValueError:\n",
    "        print(\"Please enter a valid menu item\")\n",
    "        continue\n",
    "    else:\n",
    "        try:\n",
    "            if int(input_user) in menu.keys():\n",
    "                for key, value in menu.items():\n",
    "                    if int(input_user) == key:\n",
    "                        orders.append(value)\n",
    "        \n",
    "        except ValueError:\n",
    "            print(\"Menu item does not exist\")\n",
    "            continue\n",
    "if len(orders) > 0:\n",
    "    print(\"Your order is: \")\n",
    "    for order in orders:\n",
    "        print(order.title())\n",
    "\n",
    "\n",
    "\n",
    "\n"
   ]
  },
  {
   "cell_type": "code",
   "execution_count": null,
   "metadata": {},
   "outputs": [],
   "source": [
    "## We want to create a \"guess the number\" game for our fortune-teller robot. \n",
    "## If you guess the random number between 1 and 10, you win a crystal ball!\n",
    "\n",
    "# There is some code that's been written for us \n",
    "# -- getting the random number the user needs to guess, \n",
    "# asking the user to guess a number, and printing 'You win!' if they win. \n",
    "# We need to write the code to compare the users response to num.\n",
    "import random\n",
    "\n",
    "num = random.randint(1, 10)\n",
    "counter = 3\n",
    "win = 0\n",
    "lose = 0\n",
    "\n",
    "for i in counter:\n",
    "    guess = int(input('Guess a number between 1 and 10'))\n",
    "    if guess == num:\n",
    "    print('You win!')\n",
    "    win += 1 \n",
    "    else :\n",
    "    print('You lose')\n",
    "    lose += 1\n",
    "\n",
    "print('You won {} times and lost {} times'.format(win, lose))\n",
    "# YOUR CODE HERE\n",
    "## Now our fortune-teller robot has a guess the number game — if you guess the random number between 1 and 10, you win a crystal ball! \n",
    "## But the game lets the user guess 10 times, so they always win... #fail. \n",
    "## Let's fix the game so they can only guess three times.\n",
    "## After the while loop ends, check if guess is equal to num, then print 'You win!'. Otherwise, print 'You lose! The number was ' and also print num.\n"
   ]
  }
 ],
 "metadata": {
  "kernelspec": {
   "display_name": "Python 3.10.5 ('jala': venv)",
   "language": "python",
   "name": "python3"
  },
  "language_info": {
   "codemirror_mode": {
    "name": "ipython",
    "version": 3
   },
   "file_extension": ".py",
   "mimetype": "text/x-python",
   "name": "python",
   "nbconvert_exporter": "python",
   "pygments_lexer": "ipython3",
   "version": "3.10.5"
  },
  "orig_nbformat": 4,
  "vscode": {
   "interpreter": {
    "hash": "2293375610a675e0da3928dd032ebeffe731dadefcf7b242df0f5849eadfdcef"
   }
  }
 },
 "nbformat": 4,
 "nbformat_minor": 2
}
